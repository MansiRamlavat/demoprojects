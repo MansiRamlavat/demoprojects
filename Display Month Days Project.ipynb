{
 "cells": [
  {
   "cell_type": "code",
   "execution_count": 19,
   "id": "bff13212",
   "metadata": {},
   "outputs": [
    {
     "name": "stdout",
     "output_type": "stream",
     "text": [
      "Enter the month:January\n",
      "January = 31 days\n"
     ]
    }
   ],
   "source": [
    "Month=(input(\"Enter the month:\"))\n",
    "if Month==\"January\":\n",
    "    print (\"January = 31 days\")\n",
    "elif Month==\"February\":\n",
    "    print (\"February = 28 or 29 days\") \n",
    "elif Month==\"March\":\n",
    "    print (\"March = 31 days\")\n",
    "elif Month==\"April\":\n",
    "    print (\"April= 30 days\")\n",
    "elif Month==\"May\":\n",
    "    print (\"May= 31 days\")\n",
    "elif Month==\"June\":\n",
    "    print (\"June= 30 days\")\n",
    "elif Month==\"July\":\n",
    "    print (\"July = 31 days\")\n",
    "elif Month==\"August\":\n",
    "    print (\"August= 31 days\")\n",
    "elif Month==\"September\":\n",
    "    print (\"September = 30 days\")\n",
    "elif Month==\"October\":\n",
    "    print (\"October = 31 days\")\n",
    "elif Month==\"November\":\n",
    "    print (\"November = 30 days\")\n",
    "elif Month==\"December\":\n",
    "    print (\"December= 31 days\")\n",
    "else :\n",
    "    Print (\"invalid Month Name\")\n",
    "    \n"
   ]
  },
  {
   "cell_type": "code",
   "execution_count": null,
   "id": "1ead21a1",
   "metadata": {},
   "outputs": [],
   "source": []
  },
  {
   "cell_type": "code",
   "execution_count": null,
   "id": "066a732b",
   "metadata": {},
   "outputs": [],
   "source": []
  },
  {
   "cell_type": "code",
   "execution_count": null,
   "id": "3e64249f",
   "metadata": {},
   "outputs": [],
   "source": []
  },
  {
   "cell_type": "code",
   "execution_count": null,
   "id": "f9e8d8a4",
   "metadata": {},
   "outputs": [],
   "source": []
  },
  {
   "cell_type": "code",
   "execution_count": null,
   "id": "eaba6a34",
   "metadata": {},
   "outputs": [],
   "source": []
  }
 ],
 "metadata": {
  "kernelspec": {
   "display_name": "Python 3 (ipykernel)",
   "language": "python",
   "name": "python3"
  },
  "language_info": {
   "codemirror_mode": {
    "name": "ipython",
    "version": 3
   },
   "file_extension": ".py",
   "mimetype": "text/x-python",
   "name": "python",
   "nbconvert_exporter": "python",
   "pygments_lexer": "ipython3",
   "version": "3.9.7"
  }
 },
 "nbformat": 4,
 "nbformat_minor": 5
}
