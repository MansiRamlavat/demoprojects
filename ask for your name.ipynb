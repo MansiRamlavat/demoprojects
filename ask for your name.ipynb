{
 "cells": [
  {
   "cell_type": "code",
   "execution_count": 15,
   "id": "9f6c13c9",
   "metadata": {},
   "outputs": [
    {
     "name": "stdout",
     "output_type": "stream",
     "text": [
      "Hello world!\n",
      "What is your name?\n",
      "Mansi\n",
      "It is good to meet youMansi\n",
      "The length of your name is:\n",
      "5\n",
      "what is your age?\n",
      "35\n",
      "you will be36in a year.\n"
     ]
    }
   ],
   "source": [
    "# This program says hello and ask for your name\n",
    "\n",
    "\n",
    "print(\"Hello world!\")\n",
    "print('What is your name?') # ask for their name\n",
    "myName=input()\n",
    "print(\"It is good to meet you\" + myName)\n",
    "print(\"The length of your name is:\")\n",
    "print(len(myName))\n",
    "print(\"what is your age?\")  # ask for their age\n",
    "myAge=input()\n",
    "print(\"you will be\" + str(int(myAge) +1)  + \"in a year.\")"
   ]
  },
  {
   "cell_type": "code",
   "execution_count": null,
   "id": "1e4e63f4",
   "metadata": {},
   "outputs": [],
   "source": []
  },
  {
   "cell_type": "code",
   "execution_count": null,
   "id": "4427d7ae",
   "metadata": {},
   "outputs": [],
   "source": []
  },
  {
   "cell_type": "code",
   "execution_count": null,
   "id": "2505bd28",
   "metadata": {},
   "outputs": [],
   "source": []
  },
  {
   "cell_type": "code",
   "execution_count": null,
   "id": "9c08f2a6",
   "metadata": {},
   "outputs": [],
   "source": []
  }
 ],
 "metadata": {
  "kernelspec": {
   "display_name": "Python 3 (ipykernel)",
   "language": "python",
   "name": "python3"
  },
  "language_info": {
   "codemirror_mode": {
    "name": "ipython",
    "version": 3
   },
   "file_extension": ".py",
   "mimetype": "text/x-python",
   "name": "python",
   "nbconvert_exporter": "python",
   "pygments_lexer": "ipython3",
   "version": "3.9.7"
  }
 },
 "nbformat": 4,
 "nbformat_minor": 5
}
